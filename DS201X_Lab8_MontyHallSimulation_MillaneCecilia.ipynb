{
 "cells": [
  {
   "cell_type": "code",
   "execution_count": 46,
   "metadata": {
    "collapsed": true
   },
   "outputs": [],
   "source": [
    "import random"
   ]
  },
  {
   "cell_type": "code",
   "execution_count": 47,
   "metadata": {},
   "outputs": [
    {
     "name": "stdout",
     "output_type": "stream",
     "text": [
      "No. of games 10\n",
      "[['O', 'O', 'X'], ['O', 'X', 'O'], ['X', 'O', 'O'], ['O', 'X', 'O'], ['O', 'O', 'X'], ['O', 'O', 'X'], ['O', 'X', 'O'], ['O', 'X', 'O'], ['O', 'X', 'O'], ['O', 'X', 'O']]\n"
     ]
    }
   ],
   "source": [
    "#refers to how many games are being played\n",
    "n=10\n",
    "doors = []\n",
    "\n",
    "for i in range(n):\n",
    "    #generate random number and store it as ran, it is either 0,1 or 2\n",
    "    ran = random.choice(\"012\")\n",
    "    \n",
    "    if ran == \"0\":\n",
    "        #x is where the car is and o is the goat\n",
    "        doors.append([\"X\",\"O\",\"O\"])\n",
    "    elif ran == \"1\":\n",
    "        doors.append([\"O\",\"X\",\"O\"])\n",
    "    else:\n",
    "        doors.append([\"O\",\"O\",\"X\"])\n",
    "        \n",
    "print(\"No. of games\", len(doors))\n",
    "print(doors)"
   ]
  },
  {
   "cell_type": "code",
   "execution_count": 48,
   "metadata": {},
   "outputs": [],
   "source": [
    "#create a function to find the probability that the car is behind a certain door\n",
    "def chance_to_win(list1):\n",
    "    #sum the values where the car is behind the first door\n",
    "    sum0 = 0\n",
    "    sum1 = 0\n",
    "    sum2 = 0\n",
    "    \n",
    "    #in order to access the list inside of the list\n",
    "    for i in range(len(list1)):\n",
    "        #have 3 values from 0 to 2\n",
    "        for j in range(3):\n",
    "            #if you pick the first door and you get X\n",
    "            if j == 0 and list1[i][j] == \"X\":\n",
    "                #increase the sum by 1\n",
    "                sum0 += 1\n",
    "            elif j == 1 and list1[i][j] == \"X\":\n",
    "                sum1 += 1\n",
    "            elif j == 2 and list1[i][j] == \"X\":\n",
    "                sum2 += 1\n",
    "        total = sum0 + sum1 + sum2\n",
    "        print(\"Probability of 1st door: \", sum0/total)\n",
    "        print(\"Probability of 2nd door: \", sum1/total)\n",
    "        print(\"Probability of 3rd door: \", sum2/total)"
   ]
  },
  {
   "cell_type": "code",
   "execution_count": 49,
   "metadata": {},
   "outputs": [
    {
     "name": "stdout",
     "output_type": "stream",
     "text": [
      "Probability of 1st door:  0.0\n",
      "Probability of 2nd door:  0.0\n",
      "Probability of 3rd door:  1.0\n",
      "Probability of 1st door:  0.0\n",
      "Probability of 2nd door:  0.5\n",
      "Probability of 3rd door:  0.5\n",
      "Probability of 1st door:  0.3333333333333333\n",
      "Probability of 2nd door:  0.3333333333333333\n",
      "Probability of 3rd door:  0.3333333333333333\n",
      "Probability of 1st door:  0.25\n",
      "Probability of 2nd door:  0.5\n",
      "Probability of 3rd door:  0.25\n",
      "Probability of 1st door:  0.2\n",
      "Probability of 2nd door:  0.4\n",
      "Probability of 3rd door:  0.4\n",
      "Probability of 1st door:  0.16666666666666666\n",
      "Probability of 2nd door:  0.3333333333333333\n",
      "Probability of 3rd door:  0.5\n",
      "Probability of 1st door:  0.14285714285714285\n",
      "Probability of 2nd door:  0.42857142857142855\n",
      "Probability of 3rd door:  0.42857142857142855\n",
      "Probability of 1st door:  0.125\n",
      "Probability of 2nd door:  0.5\n",
      "Probability of 3rd door:  0.375\n",
      "Probability of 1st door:  0.1111111111111111\n",
      "Probability of 2nd door:  0.5555555555555556\n",
      "Probability of 3rd door:  0.3333333333333333\n",
      "Probability of 1st door:  0.1\n",
      "Probability of 2nd door:  0.6\n",
      "Probability of 3rd door:  0.3\n"
     ]
    }
   ],
   "source": [
    "chance_to_win(doors)"
   ]
  },
  {
   "cell_type": "code",
   "execution_count": 50,
   "metadata": {
    "collapsed": true
   },
   "outputs": [],
   "source": [
    "def chance_to_win_if_stay(list1):\n",
    "    sum0 = 0\n",
    "    sum1 = 0\n",
    "    sum2 = 0\n",
    "    \n",
    "    for i in range(len(list1)):\n",
    "        win = 0\n",
    "        #loop for each door\n",
    "        for j in range(3):\n",
    "            if j == 0 and list1[i][j] == \"X\":\n",
    "                chosen_door = 0\n",
    "                sum0 += 1\n",
    "                #if choose door 1 and you stay, you win\n",
    "                win = 1\n",
    "            elif j == 1 and list1[i][j] == \"X\":\n",
    "                chosen_door = 1\n",
    "                sum1 += 1\n",
    "                #if you choose door 1 and door 2 has the car, you lose\n",
    "                win = 0\n",
    "            elif j == 2 and list1[i][j] == \"X\":\n",
    "                chosen_door = 2\n",
    "                sum2 += 1\n",
    "                #if you choose door 1 and door 3 has the car, you lose\n",
    "                win = 0\n",
    "        print(\"Game Number: \", i, \"chosen_door: \", chosen_door, \"Win?\", win)\n",
    "   \n",
    "    total = sum0 + sum1 + sum2\n",
    "    print(\"Chance to win if stay: \", sum0/total)\n",
    "    print(\"Car inside second door: \", sum1/total)\n",
    "    print(\"Car inside third door: \", sum2/total)\n",
    "    \n",
    "            "
   ]
  },
  {
   "cell_type": "code",
   "execution_count": 51,
   "metadata": {},
   "outputs": [
    {
     "name": "stdout",
     "output_type": "stream",
     "text": [
      "Game Number:  0 chosen_door:  2 Win? 0\n",
      "Game Number:  1 chosen_door:  1 Win? 0\n",
      "Game Number:  2 chosen_door:  0 Win? 1\n",
      "Game Number:  3 chosen_door:  1 Win? 0\n",
      "Game Number:  4 chosen_door:  2 Win? 0\n",
      "Game Number:  5 chosen_door:  2 Win? 0\n",
      "Game Number:  6 chosen_door:  1 Win? 0\n",
      "Game Number:  7 chosen_door:  1 Win? 0\n",
      "Game Number:  8 chosen_door:  1 Win? 0\n",
      "Game Number:  9 chosen_door:  1 Win? 0\n",
      "Chance to win if stay:  0.1\n",
      "Car inside second door:  0.6\n",
      "Car inside third door:  0.3\n"
     ]
    }
   ],
   "source": [
    "chance_to_win_if_stay(doors)"
   ]
  },
  {
   "cell_type": "code",
   "execution_count": 52,
   "metadata": {
    "collapsed": true
   },
   "outputs": [],
   "source": [
    "#assume that always choose the first door\n",
    "def chance_to_win_if_switch(list1):\n",
    "    sum0 = 0\n",
    "    sum1 = 0\n",
    "    sum2 = 0\n",
    "    \n",
    "    for i in range(len(list1)):\n",
    "        win = 0\n",
    "        #loop for each door\n",
    "        for j in range(3):\n",
    "            if j == 0 and list1[i][j] == \"X\":\n",
    "                chosen_door = 0\n",
    "                sum0 += 1\n",
    "                #if choose door 1 and you switch, you lose\n",
    "                win = 0\n",
    "            elif j == 1 and list1[i][j] == \"X\":\n",
    "                chosen_door = 1\n",
    "                sum1 += 1\n",
    "                #if you switch to door 2 which has the car from door 1, you win\n",
    "                win = 1\n",
    "            elif j == 2 and list1[i][j] == \"X\":\n",
    "                chosen_door = 2\n",
    "                sum2 += 1\n",
    "                #if you choose door 1 switch to door 3 which has the car, you win\n",
    "                win = 1\n",
    "        print(\"Game Number: \", i, \"chosen_door: \", chosen_door, \"Win?\", win)\n",
    "   \n",
    "    total = sum0 + sum1 + sum2\n",
    "    print(\"Chance to win if stay: \", sum0/total)\n",
    "    print(\"Chance to win if switch: \", (sum1+sum2)/total)\n"
   ]
  },
  {
   "cell_type": "code",
   "execution_count": 53,
   "metadata": {},
   "outputs": [
    {
     "name": "stdout",
     "output_type": "stream",
     "text": [
      "Game Number:  0 chosen_door:  2 Win? 1\n",
      "Game Number:  1 chosen_door:  1 Win? 1\n",
      "Game Number:  2 chosen_door:  0 Win? 0\n",
      "Game Number:  3 chosen_door:  1 Win? 1\n",
      "Game Number:  4 chosen_door:  2 Win? 1\n",
      "Game Number:  5 chosen_door:  2 Win? 1\n",
      "Game Number:  6 chosen_door:  1 Win? 1\n",
      "Game Number:  7 chosen_door:  1 Win? 1\n",
      "Game Number:  8 chosen_door:  1 Win? 1\n",
      "Game Number:  9 chosen_door:  1 Win? 1\n",
      "Chance to win if stay:  0.1\n",
      "Chance to win if switch:  0.9\n"
     ]
    }
   ],
   "source": [
    "chance_to_win_if_switch(doors)"
   ]
  },
  {
   "cell_type": "code",
   "execution_count": 54,
   "metadata": {
    "collapsed": true
   },
   "outputs": [],
   "source": [
    "#When number of doors is 10; chance to win if stay is .4 and chance to win if switch is .6\n",
    "#When number of doors is 1000; chance to win if stay is .331 and chance to win if switch is .669\n",
    "#When number of doors is 10,000; chance to win if stay is .33 and chance to win if switch is .67"
   ]
  }
 ],
 "metadata": {
  "kernelspec": {
   "display_name": "Python 3",
   "language": "python",
   "name": "python3"
  },
  "language_info": {
   "codemirror_mode": {
    "name": "ipython",
    "version": 3
   },
   "file_extension": ".py",
   "mimetype": "text/x-python",
   "name": "python",
   "nbconvert_exporter": "python",
   "pygments_lexer": "ipython3",
   "version": "3.6.1"
  }
 },
 "nbformat": 4,
 "nbformat_minor": 2
}
